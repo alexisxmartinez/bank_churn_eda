{
 "cells": [
  {
   "cell_type": "code",
   "execution_count": 4,
   "metadata": {},
   "outputs": [],
   "source": [
    "import pandas as pd  \n",
    "import numpy as np  \n",
    "import plotly.express as px  \n",
    "import plotly.graph_objects as go  \n",
    "from plotly.subplots import make_subplots  \n",
    "import seaborn as sns  \n",
    "import matplotlib.pyplot as plt  \n",
    "import json"
   ]
  },
  {
   "cell_type": "code",
   "execution_count": null,
   "metadata": {},
   "outputs": [],
   "source": [
    "# 🎯 Define the path to the CSV file  \n",
    "file_path = r\"C:\\Projects\\GitHubRepos\\bank_churn_eda\\data\\raw\\Bank_Churn.csv\"  \n",
    "  \n",
    "# 📥 Read the CSV file into a DataFrame  \n",
    "df = pd.read_csv(file_path)  \n",
    "  \n",
    "# ✅ Confirmation message with an emoji  \n",
    "print(\"✅ Your file has been successfully read into a DataFrame!\")  \n"
   ]
  },
  {
   "cell_type": "code",
   "execution_count": null,
   "metadata": {},
   "outputs": [],
   "source": [
    "# 📊 Display basic information about the dataset  \n",
    "print(\"\\n📘 Dataset Overview\")  \n",
    "print(\"Shape:\", df.shape)  \n",
    "print(\"\\n📝 Dataset Information:\")  \n",
    "df.info() "
   ]
  },
  {
   "cell_type": "code",
   "execution_count": null,
   "metadata": {},
   "outputs": [],
   "source": [
    "# 📈 Basic statistics  \n",
    "print(\"\\n📊 Basic Statistics:\")  \n",
    "print(df.describe())   "
   ]
  },
  {
   "cell_type": "code",
   "execution_count": null,
   "metadata": {},
   "outputs": [],
   "source": [
    "# 🔍 Check for missing values  \n",
    "print(\"\\n🚨 Missing Values:\")  \n",
    "print(df.isnull().sum())"
   ]
  },
  {
   "cell_type": "markdown",
   "metadata": {},
   "source": [
    "# 1. 👥 Customer Demographics Analysis"
   ]
  },
  {
   "cell_type": "markdown",
   "metadata": {},
   "source": [
    "## 1.1 🎂 Age Distribution  "
   ]
  },
  {
   "cell_type": "code",
   "execution_count": null,
   "metadata": {},
   "outputs": [],
   "source": [
    "\n",
    "print(\"\\n🔍 Analyzing Age Distribution by Churn Status...\")  \n",
    "fig = px.histogram(  \n",
    "    df,  \n",
    "    x='Age',  \n",
    "    color='Exited',  \n",
    "    marginal='box',  \n",
    "    title='🎂 Age Distribution by Churn Status',  \n",
    "    labels={'Exited': 'Churned'}  \n",
    ")  \n",
    "fig.show()  "
   ]
  },
  {
   "cell_type": "markdown",
   "metadata": {},
   "source": [
    "## 1.2 🌍 Geographic Distribution  "
   ]
  },
  {
   "cell_type": "code",
   "execution_count": null,
   "metadata": {},
   "outputs": [],
   "source": [
    "print(\"🔍 Analyzing Churn Rate by Geography...\")  \n",
    "geo_churn = df.groupby('Geography')['Exited'].agg(['count', 'mean']).reset_index()  \n",
    "geo_churn['churn_rate'] = geo_churn['mean'] * 100  \n",
    "  \n",
    "fig = px.bar(  \n",
    "    geo_churn,   \n",
    "    x='Geography',   \n",
    "    y='churn_rate',  \n",
    "    title='🌍 Churn Rate by Geography',  \n",
    "    labels={'churn_rate': 'Churn Rate (%)'},  \n",
    "    text='churn_rate'  \n",
    ")  \n",
    "fig.update_traces(texttemplate='%{text:.2f}%', textposition='outside')  \n",
    "fig.show()  "
   ]
  },
  {
   "cell_type": "markdown",
   "metadata": {},
   "source": [
    "# 2. 💰 Financial Analysis  "
   ]
  },
  {
   "cell_type": "markdown",
   "metadata": {},
   "source": [
    "## 2.1 💳 Balance Distribution  "
   ]
  },
  {
   "cell_type": "code",
   "execution_count": null,
   "metadata": {},
   "outputs": [],
   "source": [
    "print(\"🔍 Analyzing Balance Distribution by Geography and Churn Status...\")  \n",
    "fig = px.box(  \n",
    "    df,   \n",
    "    x='Geography',   \n",
    "    y='Balance',  \n",
    "    color='Exited',  \n",
    "    title='💳 Balance Distribution by Geography and Churn Status',  \n",
    "    labels={'Balance': 'Account Balance'}  \n",
    ")  \n",
    "fig.show()  "
   ]
  },
  {
   "cell_type": "markdown",
   "metadata": {},
   "source": [
    "## 2.2 📊 Credit Score Analysis  "
   ]
  },
  {
   "cell_type": "code",
   "execution_count": null,
   "metadata": {},
   "outputs": [],
   "source": [
    "print(\"🔍 Analyzing Credit Score vs Balance...\")  \n",
    "fig = px.scatter(  \n",
    "    df,   \n",
    "    x='CreditScore',   \n",
    "    y='Balance',  \n",
    "    color='Exited',  \n",
    "    size='Age',  \n",
    "    title='📊 Credit Score vs Balance',  \n",
    "    labels={'Exited': 'Churned'},  \n",
    "    hover_data=['CustomerId']  \n",
    ")  \n",
    "fig.show()  "
   ]
  },
  {
   "cell_type": "markdown",
   "metadata": {},
   "source": [
    "# 3. 🛍️ Product Analysis  "
   ]
  },
  {
   "cell_type": "markdown",
   "metadata": {},
   "source": [
    "## 3.1 📦 Number of Products "
   ]
  },
  {
   "cell_type": "code",
   "execution_count": null,
   "metadata": {},
   "outputs": [],
   "source": [
    "print(\"🔍 Analyzing Churn Rate by Number of Products...\")  \n",
    "product_churn = df.groupby('NumOfProducts')['Exited'].agg(['count', 'mean']).reset_index()  \n",
    "product_churn['churn_rate'] = product_churn['mean'] * 100  \n",
    "  \n",
    "fig = px.bar(  \n",
    "    product_churn,   \n",
    "    x='NumOfProducts',   \n",
    "    y='churn_rate',  \n",
    "    title='🛍️ Churn Rate by Number of Products',  \n",
    "    labels={'churn_rate': 'Churn Rate (%)'},  \n",
    "    text='churn_rate'  \n",
    ")  \n",
    "fig.update_traces(texttemplate='%{text:.2f}%', textposition='outside')  \n",
    "fig.show()  "
   ]
  },
  {
   "cell_type": "markdown",
   "metadata": {},
   "source": [
    "# 4. 📈 Customer Engagement Analysis  "
   ]
  },
  {
   "cell_type": "markdown",
   "metadata": {},
   "source": [
    "## 4.1 🔄 Active Member Status "
   ]
  },
  {
   "cell_type": "code",
   "execution_count": null,
   "metadata": {},
   "outputs": [],
   "source": [
    "print(\"🔍 Analyzing Active vs Inactive Members...\")  \n",
    "active_churn = df.groupby('IsActiveMember')['Exited'].agg(['count', 'mean']).reset_index()  \n",
    "active_churn['churn_rate'] = active_churn['mean'] * 100  \n",
    "  \n",
    "fig = px.pie(  \n",
    "    active_churn,   \n",
    "    values='count',   \n",
    "    names='IsActiveMember',  \n",
    "    title='🔄 Distribution of Active vs Inactive Members',  \n",
    "    hole=0.4  \n",
    ")  \n",
    "fig.update_traces(textposition='inside', textinfo='percent+label')  \n",
    "fig.show()  "
   ]
  },
  {
   "cell_type": "markdown",
   "metadata": {},
   "source": [
    "# 5. 📊 Correlation Analysis  "
   ]
  },
  {
   "cell_type": "code",
   "execution_count": null,
   "metadata": {},
   "outputs": [],
   "source": [
    "# Generate Correlation Matrix  \n",
    "print(\"🔍 Generating Correlation Matrix...\")  \n",
    "# Select only numeric columns for correlation matrix  \n",
    "numeric_df = df.select_dtypes(include=[np.number])  \n",
    "correlation = numeric_df.corr()  \n",
    "fig = px.imshow(  \n",
    "    correlation,  \n",
    "    title='📊 Correlation Matrix',  \n",
    "    color_continuous_scale='RdBu',  \n",
    "    range_color=(-1, 1)  \n",
    ")  \n",
    "fig.update_layout(coloraxis_colorbar=dict(title=\"Correlation\"))  \n",
    "fig.show()  "
   ]
  },
  {
   "cell_type": "markdown",
   "metadata": {},
   "source": [
    "# 6. 🧩 Customer Segmentation  "
   ]
  },
  {
   "cell_type": "markdown",
   "metadata": {},
   "source": [
    "## 6.2 💸 Create Balance Segments  "
   ]
  },
  {
   "cell_type": "code",
   "execution_count": null,
   "metadata": {},
   "outputs": [],
   "source": [
    "print(\"🔍 Creating Balance Segments for Segmentation...\")  \n",
    "# Determine the number of unique bins  \n",
    "num_bins = len(pd.qcut(df['Balance'], q=4, duplicates='drop').unique())  \n",
    "# Generate appropriate number of labels  \n",
    "labels = ['Low', 'Medium-Low', 'Medium-High', 'High'][:num_bins]  \n",
    "df['BalanceSegment'] = pd.qcut(  \n",
    "    df['Balance'],  \n",
    "    q=4,  \n",
    "    labels=labels,  \n",
    "    duplicates='drop'  \n",
    ")  \n",
    "  \n",
    "print(df[['Balance', 'BalanceSegment']].head())  "
   ]
  },
  {
   "cell_type": "code",
   "execution_count": null,
   "metadata": {},
   "outputs": [],
   "source": [
    "print(df['BalanceSegment'].value_counts())  "
   ]
  },
  {
   "cell_type": "markdown",
   "metadata": {},
   "source": [
    "## 6.3 📊 Analyze Segments  "
   ]
  },
  {
   "cell_type": "code",
   "execution_count": null,
   "metadata": {},
   "outputs": [],
   "source": [
    "# Creating Age Groups  \n",
    "print(\"🔍 Creating Age Groups for Segmentation...\")  \n",
    "age_bins = [18, 30, 40, 50, 60, 70, 80, 90]  \n",
    "age_labels = ['18-29', '30-39', '40-49', '50-59', '60-69', '70-79', '80-89']  \n",
    "df['AgeGroup'] = pd.cut(df['Age'], bins=age_bins, labels=age_labels, right=False)  \n",
    "  \n",
    "print(df[['Age', 'AgeGroup']].head()) "
   ]
  },
  {
   "cell_type": "code",
   "execution_count": null,
   "metadata": {},
   "outputs": [],
   "source": [
    "print(\"🔍 Analyzing Customer Segments...\")  \n",
    "segment_analysis = df.groupby(['AgeGroup', 'BalanceSegment'], observed=True)['Exited'].agg(['count', 'mean']).reset_index()  \n",
    "segment_analysis['churn_rate'] = segment_analysis['mean'] * 100  \n",
    "  \n",
    "fig = px.treemap(  \n",
    "    segment_analysis,  \n",
    "    path=['AgeGroup', 'BalanceSegment'],  \n",
    "    values='count',  \n",
    "    color='churn_rate',  \n",
    "    color_continuous_scale='RdBu',  \n",
    "    title='🧩 Customer Segmentation Analysis',  \n",
    "    hover_data={'churn_rate': ':.2f'}  \n",
    ")  \n",
    "fig.show()\n"
   ]
  },
  {
   "cell_type": "markdown",
   "metadata": {},
   "source": [
    "## 📊 Analysis Questions and Solutions"
   ]
  },
  {
   "cell_type": "code",
   "execution_count": null,
   "metadata": {},
   "outputs": [],
   "source": [
    "import pandas as pd  \n",
    "import seaborn as sns  \n",
    "import matplotlib.pyplot as plt  \n",
    "  \n",
    "# Load the dataset  \n",
    "df = pd.read_csv('data/raw/Bank_Churn.csv')  \n",
    "  \n",
    "# Separate churners and non-churners  \n",
    "churners = df[df['Exited'] == 1]  \n",
    "non_churners = df[df['Exited'] == 0]  \n",
    "  \n",
    "# List of categorical and numerical columns  \n",
    "categorical_cols = ['Geography', 'Gender', 'HasCrCard', 'IsActiveMember', 'NumOfProducts', 'Contact']  \n",
    "numerical_cols = ['Age', 'CreditScore', 'Balance', 'EstimatedSalary', 'Tenure']  \n",
    "  \n",
    "# Analyze categorical attributes  \n",
    "for col in categorical_cols:  \n",
    "    plt.figure(figsize=(8, 4))  \n",
    "    sns.countplot(x=col, hue='Exited', data=df, palette='Set2')  \n",
    "    plt.title(f'Distribution of {col} by Churn Status')  \n",
    "    plt.legend(title='Exited', labels=['Non-Churners', 'Churners'])  \n",
    "    plt.show()  \n",
    "  \n",
    "# Analyze numerical attributes  \n",
    "for col in numerical_cols:  \n",
    "    plt.figure(figsize=(10, 5))  \n",
    "    sns.kdeplot(churners[col], label='Churners', shade=True)  \n",
    "    sns.kdeplot(non_churners[col], label='Non-Churners', shade=True)  \n",
    "    plt.title(f'Distribution of {col} by Churn Status')  \n",
    "    plt.legend()  \n",
    "    plt.show()  "
   ]
  },
  {
   "cell_type": "markdown",
   "metadata": {},
   "source": [
    "# 💡 Save Insights "
   ]
  },
  {
   "cell_type": "code",
   "execution_count": null,
   "metadata": {},
   "outputs": [],
   "source": [
    "print(\"💾 Saving Insights to JSON file...\")  \n",
    "insights = {  \n",
    "    'total_customers': len(df),  \n",
    "    'churn_rate': round(df['Exited'].mean() * 100, 2),  \n",
    "    'avg_balance': round(df['Balance'].mean(), 2),  \n",
    "    'avg_age': round(df['Age'].mean(), 2),  \n",
    "    'top_churn_segment': segment_analysis.sort_values('churn_rate', ascending=False).iloc[0].to_dict()  \n",
    "}  \n",
    "  \n",
    "# 📝 Export insights for dashboard  \n",
    "with open(r\"C:\\Projects\\GitHubRepos\\bank_churn_eda\\data\\processed\\insights.json\", 'w') as f:  \n",
    "    json.dump(insights, f, indent=4)  \n",
    "  \n",
    "print(\"✅ Insights have been successfully saved to 'insights.json'!\")  "
   ]
  }
 ],
 "metadata": {
  "kernelspec": {
   "display_name": "Python 3",
   "language": "python",
   "name": "python3"
  },
  "language_info": {
   "codemirror_mode": {
    "name": "ipython",
    "version": 3
   },
   "file_extension": ".py",
   "mimetype": "text/x-python",
   "name": "python",
   "nbconvert_exporter": "python",
   "pygments_lexer": "ipython3",
   "version": "3.13.1"
  }
 },
 "nbformat": 4,
 "nbformat_minor": 2
}
